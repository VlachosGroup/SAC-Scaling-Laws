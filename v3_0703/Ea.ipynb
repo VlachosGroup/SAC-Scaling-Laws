{
 "nbformat": 4,
 "nbformat_minor": 2,
 "metadata": {
  "language_info": {
   "name": "python",
   "codemirror_mode": {
    "name": "ipython",
    "version": 3
   },
   "version": "3.7.3"
  },
  "orig_nbformat": 2,
  "file_extension": ".py",
  "mimetype": "text/x-python",
  "name": "python",
  "npconvert_exporter": "python",
  "pygments_lexer": "ipython3",
  "version": 3
 },
 "cells": [
  {
   "cell_type": "markdown",
   "execution_count": 10,
   "metadata": {},
   "outputs": [],
   "source": [
    "## Single Atom Diffusion Scaling Law\n",
    "\n",
    "Author: Yifan Wang (wangyf@udel.edu)\n",
    "\n",
    "The scaling law correlates the diffusion activation energy for support single atom on the support with physcial descriptors\n",
    "\n",
    "The scaling law is obtained from various machine learning methods\n",
    "\n",
    "The primary physical descriptors (features) include Ec (cohesive energy of the metal) and Ebind (the binding energy of the single atom)\n",
    "\n",
    "The secondary and "
   ]
  },
  {
   "cell_type": "code",
   "execution_count": 11,
   "metadata": {},
   "outputs": [],
   "source": [
    "#%% Import all libraries \n",
    "\n",
    "import os\n",
    "import pickle\n",
    "import numpy as np\n",
    "import pandas as pd\n",
    "from scipy.stats import norm\n",
    "\n",
    "import matplotlib\n",
    "import matplotlib.patches as mpatches\n",
    "import matplotlib.pyplot as plt\n",
    "from matplotlib.pyplot import cm\n",
    " \n",
    "\n",
    "from sklearn import linear_model\n",
    "from sklearn.cross_decomposition import PLSRegression\n",
    "from sklearn.decomposition import PCA\n",
    "from sklearn.linear_model import (ElasticNet, ElasticNetCV, Lasso, LassoCV,\n",
    "                                  Ridge, RidgeCV, enet_path, lasso_path)\n",
    "from sklearn.metrics import mean_squared_error, r2_score\n",
    "from sklearn.model_selection import (LeaveOneOut, RepeatedKFold,\n",
    "                                     cross_val_score, train_test_split)\n",
    "from sklearn.pipeline import Pipeline\n",
    "from sklearn.preprocessing import PolynomialFeatures, StandardScaler\n",
    "\n",
    "# import customized plotting functions\n",
    "import regression_tools as rtools\n",
    "\n",
    "# Set plotting format\n",
    "font = {'size'   : 20}\n",
    "\n",
    "matplotlib.rc('font', **font)\n",
    "matplotlib.rcParams['axes.linewidth'] = 1.5\n",
    "matplotlib.rcParams['xtick.major.size'] = 12\n",
    "matplotlib.rcParams['xtick.labelsize'] = 16\n",
    "matplotlib.rcParams['ytick.labelsize'] = 16\n",
    "matplotlib.rcParams['xtick.major.width'] = 3\n",
    "matplotlib.rcParams['ytick.major.size'] = 12\n",
    "matplotlib.rcParams['ytick.major.width'] = 3\n",
    "matplotlib.rcParams['legend.fontsize'] = 16\n",
    "matplotlib.rcParams['figure.dpi'] = 300. # set plotting resolution\n",
    "\n"
   ]
  },
  {
   "cell_type": "code",
   "execution_count": 12,
   "metadata": {},
   "outputs": [],
   "source": [
    "#%% Import adsorption data from a csv file\n",
    "data = pd.read_csv('Ea_data.csv', header = 0)\n",
    "\n",
    "metal = np.array(data['metal'])\n",
    "support = np.array(data['support'])\n",
    "Ec = np.array(data['Ec']) # cohesive energy of the metal\n",
    "Ebind = np.array(data['Ebind']) #binding energy of the single atom\n",
    "Ea = np.array(data['Ea']) # Diffusion barrier of the single atom onto the support"
   ]
  }
 ]
}